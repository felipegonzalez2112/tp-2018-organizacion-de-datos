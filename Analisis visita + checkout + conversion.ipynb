{
 "cells": [
  {
   "cell_type": "code",
   "execution_count": 415,
   "metadata": {},
   "outputs": [],
   "source": [
    "import numpy as np \n",
    "import pandas as pd\n",
    "\n",
    "\n",
    "import matplotlib.pyplot as plt\n",
    "import matplotlib.dates as mdates"
   ]
  },
  {
   "cell_type": "code",
   "execution_count": 416,
   "metadata": {},
   "outputs": [],
   "source": [
    "#Cargamos el csv\n",
    "\n",
    "events = pd.read_csv('../events.csv')"
   ]
  },
  {
   "cell_type": "markdown",
   "metadata": {},
   "source": [
    "## Analisis visita + checkout + conversion"
   ]
  },
  {
   "cell_type": "code",
   "execution_count": 417,
   "metadata": {},
   "outputs": [],
   "source": [
    "# aca podemos analizar por que por la url podemos saber si e suna venta o ocmpra\n",
    "#events['operacion']= events['url'].str.split('/').str[1]\n",
    "#events['operacion'].value_counts()"
   ]
  },
  {
   "cell_type": "markdown",
   "metadata": {},
   "source": [
    "### Creo una funcion que me devuelva taban sin columnas vacias"
   ]
  },
  {
   "cell_type": "code",
   "execution_count": 418,
   "metadata": {},
   "outputs": [],
   "source": [
    "# Esta funcion toma la tabla y borra las columnas que tiene todas NAN par asu mejor estudio\n",
    "def borrar_columnas_vacias(tabla):\n",
    "    for columna in tabla.columns:\n",
    "        if(tabla[columna].count() == 0):\n",
    "            tabla = tabla.drop([columna],axis = 1)\n",
    "    return tabla\n",
    "            "
   ]
  },
  {
   "cell_type": "markdown",
   "metadata": {},
   "source": [
    "### Creo mis tablas que solo contengan registros por eventos y es borro las columnas vacias"
   ]
  },
  {
   "cell_type": "code",
   "execution_count": 419,
   "metadata": {},
   "outputs": [],
   "source": [
    "#separo en tablas por eventos\n",
    "viewed_product = events[events['event'] == 'viewed product']\n",
    "brand_listing  = events[events['event'] == 'brand listing']\n",
    "visited_site   = events[events['event'] == 'visited site']\n",
    "ad_campaign_hit  = events[events['event'] == 'ad campaign hit']\n",
    "searched_products  = events[events['event'] == 'searched products']\n",
    "search_engine_hit  = events[events['event'] == 'search engine hit']\n",
    "checkout  = events[events['event'] == 'checkout']\n",
    "staticpage = events[events['event'] == 'staticpage']\n",
    "conversion = events[events['event'] == 'conversion']\n",
    "lead = events[events['event'] == 'lead']"
   ]
  },
  {
   "cell_type": "code",
   "execution_count": 420,
   "metadata": {},
   "outputs": [
    {
     "data": {
      "text/html": [
       "<div>\n",
       "<style scoped>\n",
       "    .dataframe tbody tr th:only-of-type {\n",
       "        vertical-align: middle;\n",
       "    }\n",
       "\n",
       "    .dataframe tbody tr th {\n",
       "        vertical-align: top;\n",
       "    }\n",
       "\n",
       "    .dataframe thead th {\n",
       "        text-align: right;\n",
       "    }\n",
       "</style>\n",
       "<table border=\"1\" class=\"dataframe\">\n",
       "  <thead>\n",
       "    <tr style=\"text-align: right;\">\n",
       "      <th></th>\n",
       "      <th>timestamp</th>\n",
       "      <th>event</th>\n",
       "      <th>person</th>\n",
       "      <th>sku</th>\n",
       "      <th>model</th>\n",
       "      <th>condition</th>\n",
       "      <th>storage</th>\n",
       "      <th>color</th>\n",
       "    </tr>\n",
       "  </thead>\n",
       "  <tbody>\n",
       "    <tr>\n",
       "      <th>2</th>\n",
       "      <td>2018-05-31 23:38:09</td>\n",
       "      <td>viewed product</td>\n",
       "      <td>0004b0a2</td>\n",
       "      <td>2694</td>\n",
       "      <td>iPhone 5s</td>\n",
       "      <td>Bom</td>\n",
       "      <td>32GB</td>\n",
       "      <td>Cinza espacial</td>\n",
       "    </tr>\n",
       "    <tr>\n",
       "      <th>4</th>\n",
       "      <td>2018-05-29 13:29:25</td>\n",
       "      <td>viewed product</td>\n",
       "      <td>0006a21a</td>\n",
       "      <td>15338</td>\n",
       "      <td>Samsung Galaxy S8</td>\n",
       "      <td>Bom</td>\n",
       "      <td>64GB</td>\n",
       "      <td>Dourado</td>\n",
       "    </tr>\n",
       "  </tbody>\n",
       "</table>\n",
       "</div>"
      ],
      "text/plain": [
       "             timestamp           event    person    sku              model  \\\n",
       "2  2018-05-31 23:38:09  viewed product  0004b0a2   2694          iPhone 5s   \n",
       "4  2018-05-29 13:29:25  viewed product  0006a21a  15338  Samsung Galaxy S8   \n",
       "\n",
       "  condition storage           color  \n",
       "2       Bom    32GB  Cinza espacial  \n",
       "4       Bom    64GB         Dourado  "
      ]
     },
     "execution_count": 420,
     "metadata": {},
     "output_type": "execute_result"
    }
   ],
   "source": [
    "viewed_product = borrar_columnas_vacias(viewed_product)\n",
    "viewed_product.head(2)"
   ]
  },
  {
   "cell_type": "code",
   "execution_count": 421,
   "metadata": {},
   "outputs": [
    {
     "data": {
      "text/plain": [
       "(528931, 8)"
      ]
     },
     "execution_count": 421,
     "metadata": {},
     "output_type": "execute_result"
    }
   ],
   "source": [
    "viewed_product.shape"
   ]
  },
  {
   "cell_type": "code",
   "execution_count": 422,
   "metadata": {},
   "outputs": [
    {
     "data": {
      "text/html": [
       "<div>\n",
       "<style scoped>\n",
       "    .dataframe tbody tr th:only-of-type {\n",
       "        vertical-align: middle;\n",
       "    }\n",
       "\n",
       "    .dataframe tbody tr th {\n",
       "        vertical-align: top;\n",
       "    }\n",
       "\n",
       "    .dataframe thead th {\n",
       "        text-align: right;\n",
       "    }\n",
       "</style>\n",
       "<table border=\"1\" class=\"dataframe\">\n",
       "  <thead>\n",
       "    <tr style=\"text-align: right;\">\n",
       "      <th></th>\n",
       "      <th>timestamp</th>\n",
       "      <th>event</th>\n",
       "      <th>person</th>\n",
       "      <th>skus</th>\n",
       "    </tr>\n",
       "  </thead>\n",
       "  <tbody>\n",
       "    <tr>\n",
       "      <th>12</th>\n",
       "      <td>2018-04-09 20:12:53</td>\n",
       "      <td>brand listing</td>\n",
       "      <td>000a54b2</td>\n",
       "      <td>5075,12536,12520,12661,12506,12549,10449,9175,...</td>\n",
       "    </tr>\n",
       "    <tr>\n",
       "      <th>14</th>\n",
       "      <td>2018-04-09 20:13:20</td>\n",
       "      <td>brand listing</td>\n",
       "      <td>000a54b2</td>\n",
       "      <td>5075,12536,12520,12661,12506,12549,10449,9175,...</td>\n",
       "    </tr>\n",
       "  </tbody>\n",
       "</table>\n",
       "</div>"
      ],
      "text/plain": [
       "              timestamp          event    person  \\\n",
       "12  2018-04-09 20:12:53  brand listing  000a54b2   \n",
       "14  2018-04-09 20:13:20  brand listing  000a54b2   \n",
       "\n",
       "                                                 skus  \n",
       "12  5075,12536,12520,12661,12506,12549,10449,9175,...  \n",
       "14  5075,12536,12520,12661,12506,12549,10449,9175,...  "
      ]
     },
     "execution_count": 422,
     "metadata": {},
     "output_type": "execute_result"
    }
   ],
   "source": [
    "brand_listing  = borrar_columnas_vacias(brand_listing)\n",
    "brand_listing.head(2)"
   ]
  },
  {
   "cell_type": "code",
   "execution_count": 423,
   "metadata": {},
   "outputs": [
    {
     "data": {
      "text/plain": [
       "(98635, 4)"
      ]
     },
     "execution_count": 423,
     "metadata": {},
     "output_type": "execute_result"
    }
   ],
   "source": [
    "brand_listing.shape"
   ]
  },
  {
   "cell_type": "code",
   "execution_count": 424,
   "metadata": {},
   "outputs": [
    {
     "data": {
      "text/html": [
       "<div>\n",
       "<style scoped>\n",
       "    .dataframe tbody tr th:only-of-type {\n",
       "        vertical-align: middle;\n",
       "    }\n",
       "\n",
       "    .dataframe tbody tr th {\n",
       "        vertical-align: top;\n",
       "    }\n",
       "\n",
       "    .dataframe thead th {\n",
       "        text-align: right;\n",
       "    }\n",
       "</style>\n",
       "<table border=\"1\" class=\"dataframe\">\n",
       "  <thead>\n",
       "    <tr style=\"text-align: right;\">\n",
       "      <th></th>\n",
       "      <th>timestamp</th>\n",
       "      <th>event</th>\n",
       "      <th>person</th>\n",
       "      <th>channel</th>\n",
       "      <th>new_vs_returning</th>\n",
       "      <th>city</th>\n",
       "      <th>region</th>\n",
       "      <th>country</th>\n",
       "      <th>device_type</th>\n",
       "      <th>screen_resolution</th>\n",
       "      <th>operating_system_version</th>\n",
       "      <th>browser_version</th>\n",
       "    </tr>\n",
       "  </thead>\n",
       "  <tbody>\n",
       "    <tr>\n",
       "      <th>1</th>\n",
       "      <td>2018-05-31 23:38:05</td>\n",
       "      <td>visited site</td>\n",
       "      <td>0004b0a2</td>\n",
       "      <td>Paid</td>\n",
       "      <td>New</td>\n",
       "      <td>Camaragibe</td>\n",
       "      <td>Pernambuco</td>\n",
       "      <td>Brazil</td>\n",
       "      <td>Smartphone</td>\n",
       "      <td>360x640</td>\n",
       "      <td>Android 6</td>\n",
       "      <td>Chrome Mobile 39</td>\n",
       "    </tr>\n",
       "    <tr>\n",
       "      <th>5</th>\n",
       "      <td>2018-05-29 13:29:26</td>\n",
       "      <td>visited site</td>\n",
       "      <td>0006a21a</td>\n",
       "      <td>Paid</td>\n",
       "      <td>New</td>\n",
       "      <td>Rio de Janeiro</td>\n",
       "      <td>Rio de Janeiro</td>\n",
       "      <td>Brazil</td>\n",
       "      <td>Smartphone</td>\n",
       "      <td>360x640</td>\n",
       "      <td>Android 5.1.1</td>\n",
       "      <td>Android 5.1</td>\n",
       "    </tr>\n",
       "  </tbody>\n",
       "</table>\n",
       "</div>"
      ],
      "text/plain": [
       "             timestamp         event    person channel new_vs_returning  \\\n",
       "1  2018-05-31 23:38:05  visited site  0004b0a2    Paid              New   \n",
       "5  2018-05-29 13:29:26  visited site  0006a21a    Paid              New   \n",
       "\n",
       "             city          region country device_type screen_resolution  \\\n",
       "1      Camaragibe      Pernambuco  Brazil  Smartphone           360x640   \n",
       "5  Rio de Janeiro  Rio de Janeiro  Brazil  Smartphone           360x640   \n",
       "\n",
       "  operating_system_version   browser_version  \n",
       "1                Android 6  Chrome Mobile 39  \n",
       "5            Android 5.1.1       Android 5.1  "
      ]
     },
     "execution_count": 424,
     "metadata": {},
     "output_type": "execute_result"
    }
   ],
   "source": [
    "visited_site   = borrar_columnas_vacias(visited_site)\n",
    "visited_site.head(2)"
   ]
  },
  {
   "cell_type": "code",
   "execution_count": 425,
   "metadata": {},
   "outputs": [
    {
     "data": {
      "text/plain": [
       "(87378, 12)"
      ]
     },
     "execution_count": 425,
     "metadata": {},
     "output_type": "execute_result"
    }
   ],
   "source": [
    "visited_site.shape"
   ]
  },
  {
   "cell_type": "code",
   "execution_count": 426,
   "metadata": {},
   "outputs": [
    {
     "data": {
      "text/html": [
       "<div>\n",
       "<style scoped>\n",
       "    .dataframe tbody tr th:only-of-type {\n",
       "        vertical-align: middle;\n",
       "    }\n",
       "\n",
       "    .dataframe tbody tr th {\n",
       "        vertical-align: top;\n",
       "    }\n",
       "\n",
       "    .dataframe thead th {\n",
       "        text-align: right;\n",
       "    }\n",
       "</style>\n",
       "<table border=\"1\" class=\"dataframe\">\n",
       "  <thead>\n",
       "    <tr style=\"text-align: right;\">\n",
       "      <th></th>\n",
       "      <th>timestamp</th>\n",
       "      <th>event</th>\n",
       "      <th>person</th>\n",
       "      <th>model</th>\n",
       "    </tr>\n",
       "  </thead>\n",
       "  <tbody>\n",
       "    <tr>\n",
       "      <th>3248</th>\n",
       "      <td>2018-04-17 22:11:19</td>\n",
       "      <td>lead</td>\n",
       "      <td>01139919</td>\n",
       "      <td>Samsung Galaxy On 7</td>\n",
       "    </tr>\n",
       "    <tr>\n",
       "      <th>6636</th>\n",
       "      <td>2018-04-07 11:37:11</td>\n",
       "      <td>lead</td>\n",
       "      <td>01bca043</td>\n",
       "      <td>iPhone 6 Plus</td>\n",
       "    </tr>\n",
       "  </tbody>\n",
       "</table>\n",
       "</div>"
      ],
      "text/plain": [
       "                timestamp event    person                model\n",
       "3248  2018-04-17 22:11:19  lead  01139919  Samsung Galaxy On 7\n",
       "6636  2018-04-07 11:37:11  lead  01bca043        iPhone 6 Plus"
      ]
     },
     "execution_count": 426,
     "metadata": {},
     "output_type": "execute_result"
    }
   ],
   "source": [
    "lead = borrar_columnas_vacias(lead)\n",
    "lead.head(2)"
   ]
  },
  {
   "cell_type": "code",
   "execution_count": 427,
   "metadata": {},
   "outputs": [
    {
     "data": {
      "text/plain": [
       "(448, 4)"
      ]
     },
     "execution_count": 427,
     "metadata": {},
     "output_type": "execute_result"
    }
   ],
   "source": [
    "lead.shape"
   ]
  },
  {
   "cell_type": "code",
   "execution_count": 428,
   "metadata": {},
   "outputs": [
    {
     "data": {
      "text/html": [
       "<div>\n",
       "<style scoped>\n",
       "    .dataframe tbody tr th:only-of-type {\n",
       "        vertical-align: middle;\n",
       "    }\n",
       "\n",
       "    .dataframe tbody tr th {\n",
       "        vertical-align: top;\n",
       "    }\n",
       "\n",
       "    .dataframe thead th {\n",
       "        text-align: right;\n",
       "    }\n",
       "</style>\n",
       "<table border=\"1\" class=\"dataframe\">\n",
       "  <thead>\n",
       "    <tr style=\"text-align: right;\">\n",
       "      <th></th>\n",
       "      <th>timestamp</th>\n",
       "      <th>event</th>\n",
       "      <th>person</th>\n",
       "      <th>url</th>\n",
       "      <th>campaign_source</th>\n",
       "    </tr>\n",
       "  </thead>\n",
       "  <tbody>\n",
       "    <tr>\n",
       "      <th>0</th>\n",
       "      <td>2018-05-31 23:38:05</td>\n",
       "      <td>ad campaign hit</td>\n",
       "      <td>0004b0a2</td>\n",
       "      <td>/comprar/iphone/iphone-5s</td>\n",
       "      <td>criteo</td>\n",
       "    </tr>\n",
       "    <tr>\n",
       "      <th>6</th>\n",
       "      <td>2018-05-29 13:29:27</td>\n",
       "      <td>ad campaign hit</td>\n",
       "      <td>0006a21a</td>\n",
       "      <td>/comprar/samsung/galaxy-s8</td>\n",
       "      <td>criteo</td>\n",
       "    </tr>\n",
       "  </tbody>\n",
       "</table>\n",
       "</div>"
      ],
      "text/plain": [
       "             timestamp            event    person                         url  \\\n",
       "0  2018-05-31 23:38:05  ad campaign hit  0004b0a2   /comprar/iphone/iphone-5s   \n",
       "6  2018-05-29 13:29:27  ad campaign hit  0006a21a  /comprar/samsung/galaxy-s8   \n",
       "\n",
       "  campaign_source  \n",
       "0          criteo  \n",
       "6          criteo  "
      ]
     },
     "execution_count": 428,
     "metadata": {},
     "output_type": "execute_result"
    }
   ],
   "source": [
    "ad_campaign_hit  = borrar_columnas_vacias(ad_campaign_hit)\n",
    "ad_campaign_hit.head(2)"
   ]
  },
  {
   "cell_type": "code",
   "execution_count": 429,
   "metadata": {},
   "outputs": [
    {
     "data": {
      "text/plain": [
       "(82827, 5)"
      ]
     },
     "execution_count": 429,
     "metadata": {},
     "output_type": "execute_result"
    }
   ],
   "source": [
    "ad_campaign_hit.shape"
   ]
  },
  {
   "cell_type": "code",
   "execution_count": 430,
   "metadata": {},
   "outputs": [
    {
     "data": {
      "text/html": [
       "<div>\n",
       "<style scoped>\n",
       "    .dataframe tbody tr th:only-of-type {\n",
       "        vertical-align: middle;\n",
       "    }\n",
       "\n",
       "    .dataframe tbody tr th {\n",
       "        vertical-align: top;\n",
       "    }\n",
       "\n",
       "    .dataframe thead th {\n",
       "        text-align: right;\n",
       "    }\n",
       "</style>\n",
       "<table border=\"1\" class=\"dataframe\">\n",
       "  <thead>\n",
       "    <tr style=\"text-align: right;\">\n",
       "      <th></th>\n",
       "      <th>timestamp</th>\n",
       "      <th>event</th>\n",
       "      <th>person</th>\n",
       "      <th>skus</th>\n",
       "      <th>search_term</th>\n",
       "    </tr>\n",
       "  </thead>\n",
       "  <tbody>\n",
       "    <tr>\n",
       "      <th>157</th>\n",
       "      <td>2018-02-06 02:29:49</td>\n",
       "      <td>searched products</td>\n",
       "      <td>00204059</td>\n",
       "      <td>2692,6819,823,2779,13864,2784,8135,6805,2773,2...</td>\n",
       "      <td>moto g 4</td>\n",
       "    </tr>\n",
       "    <tr>\n",
       "      <th>159</th>\n",
       "      <td>2018-02-06 02:32:41</td>\n",
       "      <td>searched products</td>\n",
       "      <td>00204059</td>\n",
       "      <td>2692,6819,823,2779,13864,2784,8135,6805,2773,2...</td>\n",
       "      <td>moto g 4</td>\n",
       "    </tr>\n",
       "  </tbody>\n",
       "</table>\n",
       "</div>"
      ],
      "text/plain": [
       "               timestamp              event    person  \\\n",
       "157  2018-02-06 02:29:49  searched products  00204059   \n",
       "159  2018-02-06 02:32:41  searched products  00204059   \n",
       "\n",
       "                                                  skus search_term  \n",
       "157  2692,6819,823,2779,13864,2784,8135,6805,2773,2...    moto g 4  \n",
       "159  2692,6819,823,2779,13864,2784,8135,6805,2773,2...    moto g 4  "
      ]
     },
     "execution_count": 430,
     "metadata": {},
     "output_type": "execute_result"
    }
   ],
   "source": [
    "searched_products  = borrar_columnas_vacias(searched_products)\n",
    "searched_products.head(2)"
   ]
  },
  {
   "cell_type": "code",
   "execution_count": 431,
   "metadata": {},
   "outputs": [
    {
     "data": {
      "text/plain": [
       "(56073, 5)"
      ]
     },
     "execution_count": 431,
     "metadata": {},
     "output_type": "execute_result"
    }
   ],
   "source": [
    "searched_products.shape"
   ]
  },
  {
   "cell_type": "code",
   "execution_count": 432,
   "metadata": {},
   "outputs": [
    {
     "data": {
      "text/html": [
       "<div>\n",
       "<style scoped>\n",
       "    .dataframe tbody tr th:only-of-type {\n",
       "        vertical-align: middle;\n",
       "    }\n",
       "\n",
       "    .dataframe tbody tr th {\n",
       "        vertical-align: top;\n",
       "    }\n",
       "\n",
       "    .dataframe thead th {\n",
       "        text-align: right;\n",
       "    }\n",
       "</style>\n",
       "<table border=\"1\" class=\"dataframe\">\n",
       "  <thead>\n",
       "    <tr style=\"text-align: right;\">\n",
       "      <th></th>\n",
       "      <th>timestamp</th>\n",
       "      <th>event</th>\n",
       "      <th>person</th>\n",
       "      <th>search_engine</th>\n",
       "    </tr>\n",
       "  </thead>\n",
       "  <tbody>\n",
       "    <tr>\n",
       "      <th>10</th>\n",
       "      <td>2018-04-09 20:12:31</td>\n",
       "      <td>search engine hit</td>\n",
       "      <td>000a54b2</td>\n",
       "      <td>Google</td>\n",
       "    </tr>\n",
       "    <tr>\n",
       "      <th>17</th>\n",
       "      <td>2018-05-24 11:21:07</td>\n",
       "      <td>search engine hit</td>\n",
       "      <td>000a54b2</td>\n",
       "      <td>Google</td>\n",
       "    </tr>\n",
       "  </tbody>\n",
       "</table>\n",
       "</div>"
      ],
      "text/plain": [
       "              timestamp              event    person search_engine\n",
       "10  2018-04-09 20:12:31  search engine hit  000a54b2        Google\n",
       "17  2018-05-24 11:21:07  search engine hit  000a54b2        Google"
      ]
     },
     "execution_count": 432,
     "metadata": {},
     "output_type": "execute_result"
    }
   ],
   "source": [
    "search_engine_hit  = borrar_columnas_vacias(search_engine_hit)\n",
    "search_engine_hit.head(2)"
   ]
  },
  {
   "cell_type": "code",
   "execution_count": 433,
   "metadata": {},
   "outputs": [
    {
     "data": {
      "text/plain": [
       "(50957, 4)"
      ]
     },
     "execution_count": 433,
     "metadata": {},
     "output_type": "execute_result"
    }
   ],
   "source": [
    "search_engine_hit.shape"
   ]
  },
  {
   "cell_type": "code",
   "execution_count": 434,
   "metadata": {},
   "outputs": [
    {
     "data": {
      "text/html": [
       "<div>\n",
       "<style scoped>\n",
       "    .dataframe tbody tr th:only-of-type {\n",
       "        vertical-align: middle;\n",
       "    }\n",
       "\n",
       "    .dataframe tbody tr th {\n",
       "        vertical-align: top;\n",
       "    }\n",
       "\n",
       "    .dataframe thead th {\n",
       "        text-align: right;\n",
       "    }\n",
       "</style>\n",
       "<table border=\"1\" class=\"dataframe\">\n",
       "  <thead>\n",
       "    <tr style=\"text-align: right;\">\n",
       "      <th></th>\n",
       "      <th>timestamp</th>\n",
       "      <th>event</th>\n",
       "      <th>person</th>\n",
       "      <th>sku</th>\n",
       "      <th>model</th>\n",
       "      <th>condition</th>\n",
       "      <th>storage</th>\n",
       "      <th>color</th>\n",
       "    </tr>\n",
       "  </thead>\n",
       "  <tbody>\n",
       "    <tr>\n",
       "      <th>220</th>\n",
       "      <td>2018-03-20 17:46:12</td>\n",
       "      <td>conversion</td>\n",
       "      <td>00204059</td>\n",
       "      <td>3084</td>\n",
       "      <td>Motorola Moto X2</td>\n",
       "      <td>Muito Bom</td>\n",
       "      <td>32GB</td>\n",
       "      <td>Couro Vintage</td>\n",
       "    </tr>\n",
       "    <tr>\n",
       "      <th>2282</th>\n",
       "      <td>2018-04-26 22:28:53</td>\n",
       "      <td>conversion</td>\n",
       "      <td>00c13dee</td>\n",
       "      <td>6650</td>\n",
       "      <td>Samsung Galaxy Core Plus Duos TV</td>\n",
       "      <td>Muito Bom</td>\n",
       "      <td>4GB</td>\n",
       "      <td>Branco</td>\n",
       "    </tr>\n",
       "  </tbody>\n",
       "</table>\n",
       "</div>"
      ],
      "text/plain": [
       "                timestamp       event    person   sku  \\\n",
       "220   2018-03-20 17:46:12  conversion  00204059  3084   \n",
       "2282  2018-04-26 22:28:53  conversion  00c13dee  6650   \n",
       "\n",
       "                                 model  condition storage          color  \n",
       "220                   Motorola Moto X2  Muito Bom    32GB  Couro Vintage  \n",
       "2282  Samsung Galaxy Core Plus Duos TV  Muito Bom     4GB         Branco  "
      ]
     },
     "execution_count": 434,
     "metadata": {},
     "output_type": "execute_result"
    }
   ],
   "source": [
    "conversion = borrar_columnas_vacias(conversion)\n",
    "conversion.head(2)"
   ]
  },
  {
   "cell_type": "code",
   "execution_count": 435,
   "metadata": {},
   "outputs": [
    {
     "data": {
      "text/plain": [
       "(1172, 8)"
      ]
     },
     "execution_count": 435,
     "metadata": {},
     "output_type": "execute_result"
    }
   ],
   "source": [
    "conversion.shape"
   ]
  },
  {
   "cell_type": "code",
   "execution_count": 436,
   "metadata": {},
   "outputs": [
    {
     "data": {
      "text/html": [
       "<div>\n",
       "<style scoped>\n",
       "    .dataframe tbody tr th:only-of-type {\n",
       "        vertical-align: middle;\n",
       "    }\n",
       "\n",
       "    .dataframe tbody tr th {\n",
       "        vertical-align: top;\n",
       "    }\n",
       "\n",
       "    .dataframe thead th {\n",
       "        text-align: right;\n",
       "    }\n",
       "</style>\n",
       "<table border=\"1\" class=\"dataframe\">\n",
       "  <thead>\n",
       "    <tr style=\"text-align: right;\">\n",
       "      <th></th>\n",
       "      <th>timestamp</th>\n",
       "      <th>event</th>\n",
       "      <th>person</th>\n",
       "      <th>staticpage</th>\n",
       "    </tr>\n",
       "  </thead>\n",
       "  <tbody>\n",
       "    <tr>\n",
       "      <th>254</th>\n",
       "      <td>2018-05-28 22:45:54</td>\n",
       "      <td>staticpage</td>\n",
       "      <td>0024ad28</td>\n",
       "      <td>how-to-buy</td>\n",
       "    </tr>\n",
       "    <tr>\n",
       "      <th>350</th>\n",
       "      <td>2018-05-30 01:06:09</td>\n",
       "      <td>staticpage</td>\n",
       "      <td>002932b1</td>\n",
       "      <td>trust-trocafone</td>\n",
       "    </tr>\n",
       "  </tbody>\n",
       "</table>\n",
       "</div>"
      ],
      "text/plain": [
       "               timestamp       event    person       staticpage\n",
       "254  2018-05-28 22:45:54  staticpage  0024ad28       how-to-buy\n",
       "350  2018-05-30 01:06:09  staticpage  002932b1  trust-trocafone"
      ]
     },
     "execution_count": 436,
     "metadata": {},
     "output_type": "execute_result"
    }
   ],
   "source": [
    "staticpage = borrar_columnas_vacias(staticpage)\n",
    "staticpage.head(2)"
   ]
  },
  {
   "cell_type": "code",
   "execution_count": 437,
   "metadata": {},
   "outputs": [
    {
     "data": {
      "text/plain": [
       "(3598, 4)"
      ]
     },
     "execution_count": 437,
     "metadata": {},
     "output_type": "execute_result"
    }
   ],
   "source": [
    "staticpage.shape"
   ]
  },
  {
   "cell_type": "code",
   "execution_count": 438,
   "metadata": {},
   "outputs": [
    {
     "data": {
      "text/html": [
       "<div>\n",
       "<style scoped>\n",
       "    .dataframe tbody tr th:only-of-type {\n",
       "        vertical-align: middle;\n",
       "    }\n",
       "\n",
       "    .dataframe tbody tr th {\n",
       "        vertical-align: top;\n",
       "    }\n",
       "\n",
       "    .dataframe thead th {\n",
       "        text-align: right;\n",
       "    }\n",
       "</style>\n",
       "<table border=\"1\" class=\"dataframe\">\n",
       "  <thead>\n",
       "    <tr style=\"text-align: right;\">\n",
       "      <th></th>\n",
       "      <th>timestamp</th>\n",
       "      <th>event</th>\n",
       "      <th>person</th>\n",
       "      <th>sku</th>\n",
       "      <th>model</th>\n",
       "      <th>condition</th>\n",
       "      <th>storage</th>\n",
       "      <th>color</th>\n",
       "    </tr>\n",
       "  </thead>\n",
       "  <tbody>\n",
       "    <tr>\n",
       "      <th>3</th>\n",
       "      <td>2018-05-31 23:38:40</td>\n",
       "      <td>checkout</td>\n",
       "      <td>0004b0a2</td>\n",
       "      <td>2694</td>\n",
       "      <td>iPhone 5s</td>\n",
       "      <td>Bom</td>\n",
       "      <td>32GB</td>\n",
       "      <td>Cinza espacial</td>\n",
       "    </tr>\n",
       "    <tr>\n",
       "      <th>7</th>\n",
       "      <td>2018-05-29 13:29:35</td>\n",
       "      <td>checkout</td>\n",
       "      <td>0006a21a</td>\n",
       "      <td>15338</td>\n",
       "      <td>Samsung Galaxy S8</td>\n",
       "      <td>Bom</td>\n",
       "      <td>64GB</td>\n",
       "      <td>Dourado</td>\n",
       "    </tr>\n",
       "  </tbody>\n",
       "</table>\n",
       "</div>"
      ],
      "text/plain": [
       "             timestamp     event    person    sku              model  \\\n",
       "3  2018-05-31 23:38:40  checkout  0004b0a2   2694          iPhone 5s   \n",
       "7  2018-05-29 13:29:35  checkout  0006a21a  15338  Samsung Galaxy S8   \n",
       "\n",
       "  condition storage           color  \n",
       "3       Bom    32GB  Cinza espacial  \n",
       "7       Bom    64GB         Dourado  "
      ]
     },
     "execution_count": 438,
     "metadata": {},
     "output_type": "execute_result"
    }
   ],
   "source": [
    "checkout  = borrar_columnas_vacias(checkout)\n",
    "checkout.head(2)"
   ]
  },
  {
   "cell_type": "code",
   "execution_count": 439,
   "metadata": {},
   "outputs": [
    {
     "data": {
      "text/plain": [
       "(33735, 8)"
      ]
     },
     "execution_count": 439,
     "metadata": {},
     "output_type": "execute_result"
    }
   ],
   "source": [
    "checkout.shape\n"
   ]
  },
  {
   "cell_type": "markdown",
   "metadata": {},
   "source": [
    "### Creo mi tabla maestro de personas con algunos campos"
   ]
  },
  {
   "cell_type": "code",
   "execution_count": 440,
   "metadata": {},
   "outputs": [
    {
     "data": {
      "text/html": [
       "<div>\n",
       "<style scoped>\n",
       "    .dataframe tbody tr th:only-of-type {\n",
       "        vertical-align: middle;\n",
       "    }\n",
       "\n",
       "    .dataframe tbody tr th {\n",
       "        vertical-align: top;\n",
       "    }\n",
       "\n",
       "    .dataframe thead th {\n",
       "        text-align: right;\n",
       "    }\n",
       "</style>\n",
       "<table border=\"1\" class=\"dataframe\">\n",
       "  <thead>\n",
       "    <tr style=\"text-align: right;\">\n",
       "      <th></th>\n",
       "      <th>city</th>\n",
       "      <th>region</th>\n",
       "      <th>country</th>\n",
       "      <th>device_type</th>\n",
       "      <th>browser_version</th>\n",
       "      <th>channel</th>\n",
       "    </tr>\n",
       "    <tr>\n",
       "      <th>person</th>\n",
       "      <th></th>\n",
       "      <th></th>\n",
       "      <th></th>\n",
       "      <th></th>\n",
       "      <th></th>\n",
       "      <th></th>\n",
       "    </tr>\n",
       "  </thead>\n",
       "  <tbody>\n",
       "    <tr>\n",
       "      <th>0004b0a2</th>\n",
       "      <td>Camaragibe</td>\n",
       "      <td>Pernambuco</td>\n",
       "      <td>Brazil</td>\n",
       "      <td>Smartphone</td>\n",
       "      <td>Chrome Mobile 39</td>\n",
       "      <td>Paid</td>\n",
       "    </tr>\n",
       "    <tr>\n",
       "      <th>0006a21a</th>\n",
       "      <td>Rio de Janeiro</td>\n",
       "      <td>Rio de Janeiro</td>\n",
       "      <td>Brazil</td>\n",
       "      <td>Smartphone</td>\n",
       "      <td>Android 5.1</td>\n",
       "      <td>Paid</td>\n",
       "    </tr>\n",
       "    <tr>\n",
       "      <th>000a54b2</th>\n",
       "      <td>Rio de Janeiro</td>\n",
       "      <td>Rio de Janeiro</td>\n",
       "      <td>Brazil</td>\n",
       "      <td>Computer</td>\n",
       "      <td>Chrome 65.0</td>\n",
       "      <td>Paid</td>\n",
       "    </tr>\n",
       "    <tr>\n",
       "      <th>00184bf9</th>\n",
       "      <td>Ribeirão Preto</td>\n",
       "      <td>Sao Paulo</td>\n",
       "      <td>Brazil</td>\n",
       "      <td>Computer</td>\n",
       "      <td>Chrome 65.0</td>\n",
       "      <td>Organic</td>\n",
       "    </tr>\n",
       "    <tr>\n",
       "      <th>0019c395</th>\n",
       "      <td>Unknown</td>\n",
       "      <td>Unknown</td>\n",
       "      <td>Brazil</td>\n",
       "      <td>Smartphone</td>\n",
       "      <td>Chrome Mobile 66.0</td>\n",
       "      <td>Paid</td>\n",
       "    </tr>\n",
       "  </tbody>\n",
       "</table>\n",
       "</div>"
      ],
      "text/plain": [
       "                    city          region country device_type  \\\n",
       "person                                                         \n",
       "0004b0a2      Camaragibe      Pernambuco  Brazil  Smartphone   \n",
       "0006a21a  Rio de Janeiro  Rio de Janeiro  Brazil  Smartphone   \n",
       "000a54b2  Rio de Janeiro  Rio de Janeiro  Brazil    Computer   \n",
       "00184bf9  Ribeirão Preto       Sao Paulo  Brazil    Computer   \n",
       "0019c395         Unknown         Unknown  Brazil  Smartphone   \n",
       "\n",
       "             browser_version  channel  \n",
       "person                                 \n",
       "0004b0a2    Chrome Mobile 39     Paid  \n",
       "0006a21a         Android 5.1     Paid  \n",
       "000a54b2         Chrome 65.0     Paid  \n",
       "00184bf9         Chrome 65.0  Organic  \n",
       "0019c395  Chrome Mobile 66.0     Paid  "
      ]
     },
     "execution_count": 440,
     "metadata": {},
     "output_type": "execute_result"
    }
   ],
   "source": [
    "#obtengo algunos datos personales tomando las registros de evento visista q tienen dichos campos\n",
    "datos_persona = visited_site.loc[:,['person','city','region','country','device_type','browser_version','channel']]\\\n",
    "                            .drop_duplicates(subset='person')\\\n",
    "                            .set_index('person')\n",
    "datos_persona.head()"
   ]
  },
  {
   "cell_type": "code",
   "execution_count": 441,
   "metadata": {},
   "outputs": [
    {
     "data": {
      "text/plain": [
       "(26899, 6)"
      ]
     },
     "execution_count": 441,
     "metadata": {},
     "output_type": "execute_result"
    }
   ],
   "source": [
    "datos_persona.shape"
   ]
  },
  {
   "cell_type": "markdown",
   "metadata": {},
   "source": [
    "### Tabla de checkout and conversion"
   ]
  },
  {
   "cell_type": "code",
   "execution_count": 442,
   "metadata": {},
   "outputs": [],
   "source": [
    "conver = conversion.reset_index().drop_duplicates(subset = ['person','sku']).set_index(['person','sku'])\n",
    "check = checkout.reset_index().drop_duplicates(subset= ['person','sku']).set_index(['person','sku'])"
   ]
  },
  {
   "cell_type": "markdown",
   "metadata": {},
   "source": [
    "### Tabla maestro de modelos"
   ]
  },
  {
   "cell_type": "code",
   "execution_count": 443,
   "metadata": {},
   "outputs": [
    {
     "data": {
      "text/html": [
       "<div>\n",
       "<style scoped>\n",
       "    .dataframe tbody tr th:only-of-type {\n",
       "        vertical-align: middle;\n",
       "    }\n",
       "\n",
       "    .dataframe tbody tr th {\n",
       "        vertical-align: top;\n",
       "    }\n",
       "\n",
       "    .dataframe thead th {\n",
       "        text-align: right;\n",
       "    }\n",
       "</style>\n",
       "<table border=\"1\" class=\"dataframe\">\n",
       "  <thead>\n",
       "    <tr style=\"text-align: right;\">\n",
       "      <th></th>\n",
       "      <th>model</th>\n",
       "      <th>condition</th>\n",
       "      <th>storage</th>\n",
       "      <th>color</th>\n",
       "    </tr>\n",
       "    <tr>\n",
       "      <th>sku</th>\n",
       "      <th></th>\n",
       "      <th></th>\n",
       "      <th></th>\n",
       "      <th></th>\n",
       "    </tr>\n",
       "  </thead>\n",
       "  <tbody>\n",
       "    <tr>\n",
       "      <th>71.0</th>\n",
       "      <td>iPhone 4G</td>\n",
       "      <td>Excelente</td>\n",
       "      <td>8GB</td>\n",
       "      <td>Preto</td>\n",
       "    </tr>\n",
       "    <tr>\n",
       "      <th>74.0</th>\n",
       "      <td>iPhone 4G</td>\n",
       "      <td>Muito Bom</td>\n",
       "      <td>8GB</td>\n",
       "      <td>Preto</td>\n",
       "    </tr>\n",
       "    <tr>\n",
       "      <th>80.0</th>\n",
       "      <td>iPhone 4G</td>\n",
       "      <td>Muito Bom</td>\n",
       "      <td>8GB</td>\n",
       "      <td>Branco</td>\n",
       "    </tr>\n",
       "    <tr>\n",
       "      <th>81.0</th>\n",
       "      <td>iPhone 4G</td>\n",
       "      <td>Excelente</td>\n",
       "      <td>8GB</td>\n",
       "      <td>Branco</td>\n",
       "    </tr>\n",
       "    <tr>\n",
       "      <th>87.0</th>\n",
       "      <td>iPhone 4G</td>\n",
       "      <td>Muito Bom</td>\n",
       "      <td>16GB</td>\n",
       "      <td>Preto</td>\n",
       "    </tr>\n",
       "  </tbody>\n",
       "</table>\n",
       "</div>"
      ],
      "text/plain": [
       "          model  condition storage   color\n",
       "sku                                       \n",
       "71.0  iPhone 4G  Excelente     8GB   Preto\n",
       "74.0  iPhone 4G  Muito Bom     8GB   Preto\n",
       "80.0  iPhone 4G  Muito Bom     8GB  Branco\n",
       "81.0  iPhone 4G  Excelente     8GB  Branco\n",
       "87.0  iPhone 4G  Muito Bom    16GB   Preto"
      ]
     },
     "execution_count": 443,
     "metadata": {},
     "output_type": "execute_result"
    }
   ],
   "source": [
    "#armo una tabla maestro de skus con modelo + condicion + storage + color \n",
    "modelos = events.loc [:,['sku','model','condition','storage','color']]\\\n",
    "                .dropna(subset=['sku','model'])\n",
    "#modelos['sku'] = modelos['sku'].astype(float).astype(int)\n",
    "modelos = modelos.drop_duplicates(subset = ['sku']).set_index('sku').sort_values('sku')\n",
    "modelos.head()\n",
    "\n"
   ]
  },
  {
   "cell_type": "markdown",
   "metadata": {},
   "source": [
    "### Analisis de lso que retornaron y d elos que no lo hicieron"
   ]
  },
  {
   "cell_type": "code",
   "execution_count": 444,
   "metadata": {},
   "outputs": [
    {
     "name": "stdout",
     "output_type": "stream",
     "text": [
      "(11131, 7)\n",
      "(26898, 11)\n"
     ]
    }
   ],
   "source": [
    "# De las personas que visitaron la pagina por primera vez (26898) solo volvieron a hacerlo (11131)\n",
    "visitantes = visited_site\n",
    "nuevos = visitantes.loc[visitantes['new_vs_returning']=='New',:]\n",
    "nuevos = nuevos.set_index('person')\n",
    "retornaron = visitantes.loc[visitantes['new_vs_returning']=='Returning',:].drop_duplicates(subset='person')\n",
    "retornaron = retornaron.set_index('person').loc[:,\\\n",
    "                          ['city','region','country','device_type',\\\n",
    "                           'operating_system_version','browser_version','channel']]\n",
    "#retornaron = retornaron.drop_duplicates(subset = 'person')\n",
    "print(retornaron.shape)\n",
    "print(nuevos.shape)\n",
    "\n",
    "#podemos ver que menos del 50% volvio despues de visitar vez pagina\n"
   ]
  },
  {
   "cell_type": "code",
   "execution_count": 445,
   "metadata": {},
   "outputs": [
    {
     "data": {
      "text/html": [
       "<div>\n",
       "<style scoped>\n",
       "    .dataframe tbody tr th:only-of-type {\n",
       "        vertical-align: middle;\n",
       "    }\n",
       "\n",
       "    .dataframe tbody tr th {\n",
       "        vertical-align: top;\n",
       "    }\n",
       "\n",
       "    .dataframe thead th {\n",
       "        text-align: right;\n",
       "    }\n",
       "</style>\n",
       "<table border=\"1\" class=\"dataframe\">\n",
       "  <thead>\n",
       "    <tr style=\"text-align: right;\">\n",
       "      <th></th>\n",
       "      <th>city</th>\n",
       "      <th>region</th>\n",
       "      <th>country</th>\n",
       "      <th>device_type</th>\n",
       "      <th>operating_system_version</th>\n",
       "      <th>browser_version</th>\n",
       "      <th>channel</th>\n",
       "    </tr>\n",
       "    <tr>\n",
       "      <th>person</th>\n",
       "      <th></th>\n",
       "      <th></th>\n",
       "      <th></th>\n",
       "      <th></th>\n",
       "      <th></th>\n",
       "      <th></th>\n",
       "      <th></th>\n",
       "    </tr>\n",
       "  </thead>\n",
       "  <tbody>\n",
       "    <tr>\n",
       "      <th>000a54b2</th>\n",
       "      <td>Rio de Janeiro</td>\n",
       "      <td>Rio de Janeiro</td>\n",
       "      <td>Brazil</td>\n",
       "      <td>Computer</td>\n",
       "      <td>Windows 10</td>\n",
       "      <td>Chrome 66.0</td>\n",
       "      <td>Paid</td>\n",
       "    </tr>\n",
       "    <tr>\n",
       "      <th>00184bf9</th>\n",
       "      <td>Ribeirão Preto</td>\n",
       "      <td>Sao Paulo</td>\n",
       "      <td>Brazil</td>\n",
       "      <td>Computer</td>\n",
       "      <td>Windows 10</td>\n",
       "      <td>Chrome 66.0</td>\n",
       "      <td>Direct</td>\n",
       "    </tr>\n",
       "    <tr>\n",
       "      <th>001bb7eb</th>\n",
       "      <td>Unknown</td>\n",
       "      <td>Unknown</td>\n",
       "      <td>Brazil</td>\n",
       "      <td>Computer</td>\n",
       "      <td>Windows 7</td>\n",
       "      <td>Firefox 52</td>\n",
       "      <td>Paid</td>\n",
       "    </tr>\n",
       "    <tr>\n",
       "      <th>00204059</th>\n",
       "      <td>Unknown</td>\n",
       "      <td>Unknown</td>\n",
       "      <td>Unknown</td>\n",
       "      <td>Computer</td>\n",
       "      <td>Windows 7</td>\n",
       "      <td>Chrome 63.0</td>\n",
       "      <td>Social</td>\n",
       "    </tr>\n",
       "    <tr>\n",
       "      <th>0024ad28</th>\n",
       "      <td>Santa Cruz do Sul</td>\n",
       "      <td>Rio Grande do Sul</td>\n",
       "      <td>Brazil</td>\n",
       "      <td>Computer</td>\n",
       "      <td>Windows 7</td>\n",
       "      <td>IE 11</td>\n",
       "      <td>Paid</td>\n",
       "    </tr>\n",
       "  </tbody>\n",
       "</table>\n",
       "</div>"
      ],
      "text/plain": [
       "                       city             region  country device_type  \\\n",
       "person                                                                \n",
       "000a54b2     Rio de Janeiro     Rio de Janeiro   Brazil    Computer   \n",
       "00184bf9     Ribeirão Preto          Sao Paulo   Brazil    Computer   \n",
       "001bb7eb            Unknown            Unknown   Brazil    Computer   \n",
       "00204059            Unknown            Unknown  Unknown    Computer   \n",
       "0024ad28  Santa Cruz do Sul  Rio Grande do Sul   Brazil    Computer   \n",
       "\n",
       "         operating_system_version browser_version channel  \n",
       "person                                                     \n",
       "000a54b2              Windows 10      Chrome 66.0    Paid  \n",
       "00184bf9              Windows 10      Chrome 66.0  Direct  \n",
       "001bb7eb               Windows 7       Firefox 52    Paid  \n",
       "00204059               Windows 7      Chrome 63.0  Social  \n",
       "0024ad28               Windows 7            IE 11    Paid  "
      ]
     },
     "execution_count": 445,
     "metadata": {},
     "output_type": "execute_result"
    }
   ],
   "source": [
    "retornaron.head()"
   ]
  },
  {
   "cell_type": "code",
   "execution_count": 446,
   "metadata": {},
   "outputs": [
    {
     "data": {
      "text/html": [
       "<div>\n",
       "<style scoped>\n",
       "    .dataframe tbody tr th:only-of-type {\n",
       "        vertical-align: middle;\n",
       "    }\n",
       "\n",
       "    .dataframe tbody tr th {\n",
       "        vertical-align: top;\n",
       "    }\n",
       "\n",
       "    .dataframe thead th {\n",
       "        text-align: right;\n",
       "    }\n",
       "</style>\n",
       "<table border=\"1\" class=\"dataframe\">\n",
       "  <thead>\n",
       "    <tr style=\"text-align: right;\">\n",
       "      <th></th>\n",
       "      <th>city</th>\n",
       "      <th>region</th>\n",
       "      <th>country</th>\n",
       "      <th>device_type</th>\n",
       "      <th>operating_system_version</th>\n",
       "      <th>browser_version</th>\n",
       "      <th>channel</th>\n",
       "    </tr>\n",
       "    <tr>\n",
       "      <th>person</th>\n",
       "      <th></th>\n",
       "      <th></th>\n",
       "      <th></th>\n",
       "      <th></th>\n",
       "      <th></th>\n",
       "      <th></th>\n",
       "      <th></th>\n",
       "    </tr>\n",
       "  </thead>\n",
       "  <tbody>\n",
       "    <tr>\n",
       "      <th>0004b0a2</th>\n",
       "      <td>Camaragibe</td>\n",
       "      <td>Pernambuco</td>\n",
       "      <td>Brazil</td>\n",
       "      <td>Smartphone</td>\n",
       "      <td>Android 6</td>\n",
       "      <td>Chrome Mobile 39</td>\n",
       "      <td>Paid</td>\n",
       "    </tr>\n",
       "    <tr>\n",
       "      <th>0006a21a</th>\n",
       "      <td>Rio de Janeiro</td>\n",
       "      <td>Rio de Janeiro</td>\n",
       "      <td>Brazil</td>\n",
       "      <td>Smartphone</td>\n",
       "      <td>Android 5.1.1</td>\n",
       "      <td>Android 5.1</td>\n",
       "      <td>Paid</td>\n",
       "    </tr>\n",
       "    <tr>\n",
       "      <th>0019c395</th>\n",
       "      <td>Unknown</td>\n",
       "      <td>Unknown</td>\n",
       "      <td>Brazil</td>\n",
       "      <td>Smartphone</td>\n",
       "      <td>Android 6</td>\n",
       "      <td>Chrome Mobile 66.0</td>\n",
       "      <td>Paid</td>\n",
       "    </tr>\n",
       "    <tr>\n",
       "      <th>001f1653</th>\n",
       "      <td>Unknown</td>\n",
       "      <td>Unknown</td>\n",
       "      <td>Brazil</td>\n",
       "      <td>Smartphone</td>\n",
       "      <td>Android 6</td>\n",
       "      <td>Chrome Mobile 39</td>\n",
       "      <td>Paid</td>\n",
       "    </tr>\n",
       "    <tr>\n",
       "      <th>0024a82b</th>\n",
       "      <td>Unknown</td>\n",
       "      <td>Unknown</td>\n",
       "      <td>Brazil</td>\n",
       "      <td>Computer</td>\n",
       "      <td>Windows 7</td>\n",
       "      <td>Chrome 66.0</td>\n",
       "      <td>Paid</td>\n",
       "    </tr>\n",
       "  </tbody>\n",
       "</table>\n",
       "</div>"
      ],
      "text/plain": [
       "                    city          region country device_type  \\\n",
       "person                                                         \n",
       "0004b0a2      Camaragibe      Pernambuco  Brazil  Smartphone   \n",
       "0006a21a  Rio de Janeiro  Rio de Janeiro  Brazil  Smartphone   \n",
       "0019c395         Unknown         Unknown  Brazil  Smartphone   \n",
       "001f1653         Unknown         Unknown  Brazil  Smartphone   \n",
       "0024a82b         Unknown         Unknown  Brazil    Computer   \n",
       "\n",
       "         operating_system_version     browser_version channel  \n",
       "person                                                         \n",
       "0004b0a2                Android 6    Chrome Mobile 39    Paid  \n",
       "0006a21a            Android 5.1.1         Android 5.1    Paid  \n",
       "0019c395                Android 6  Chrome Mobile 66.0    Paid  \n",
       "001f1653                Android 6    Chrome Mobile 39    Paid  \n",
       "0024a82b               Windows 7          Chrome 66.0    Paid  "
      ]
     },
     "execution_count": 446,
     "metadata": {},
     "output_type": "execute_result"
    }
   ],
   "source": [
    "noRetornaron = nuevos.join(retornaron,how = 'left',rsuffix=' r')\n",
    "noRetornaron = noRetornaron.loc[noRetornaron['city r'].isnull() ,\\\n",
    "                          ['city','region','country','device_type',\\\n",
    "                           'operating_system_version','browser_version','channel']]\n",
    "noRetornaron.head()\n",
    "#Tengouna lista de las personas que que visitaron 1 vez y no volvieron a hacerlo"
   ]
  },
  {
   "cell_type": "code",
   "execution_count": 447,
   "metadata": {},
   "outputs": [
    {
     "data": {
      "text/plain": [
       "(15768, 7)"
      ]
     },
     "execution_count": 447,
     "metadata": {},
     "output_type": "execute_result"
    }
   ],
   "source": [
    "noRetornaron.shape"
   ]
  },
  {
   "cell_type": "code",
   "execution_count": 448,
   "metadata": {},
   "outputs": [
    {
     "data": {
      "text/plain": [
       "Smartphone    14305\n",
       "Computer      12073\n",
       "Tablet          478\n",
       "Unknown          42\n",
       "Name: device_type, dtype: int64"
      ]
     },
     "execution_count": 448,
     "metadata": {},
     "output_type": "execute_result"
    }
   ],
   "source": [
    "# Aca tengo la cantidad de visitantes diferentes por tipo de dispositivo\n",
    "nuevos['device_type'].value_counts()"
   ]
  },
  {
   "cell_type": "code",
   "execution_count": 449,
   "metadata": {},
   "outputs": [
    {
     "data": {
      "text/plain": [
       "Computer      5481\n",
       "Smartphone    5452\n",
       "Tablet         180\n",
       "Unknown         18\n",
       "Name: device_type, dtype: int64"
      ]
     },
     "execution_count": 449,
     "metadata": {},
     "output_type": "execute_result"
    }
   ],
   "source": [
    "#aca tengo una lista de personas q visitaron 1 vez y no volvieron a hacerlo agrupado por dispositivo\n",
    "retornaron['device_type'].value_counts()"
   ]
  },
  {
   "cell_type": "code",
   "execution_count": 450,
   "metadata": {},
   "outputs": [
    {
     "data": {
      "text/plain": [
       "Smartphone    8846\n",
       "Computer      6599\n",
       "Tablet         298\n",
       "Unknown         25\n",
       "Name: device_type, dtype: int64"
      ]
     },
     "execution_count": 450,
     "metadata": {},
     "output_type": "execute_result"
    }
   ],
   "source": [
    "noRetornaron['device_type'].value_counts()"
   ]
  },
  {
   "cell_type": "code",
   "execution_count": 451,
   "metadata": {},
   "outputs": [
    {
     "data": {
      "text/plain": [
       "Windows 7        5966\n",
       "Windows 10       4541\n",
       "Android 7        3148\n",
       "Android 6        2959\n",
       "Android 6.0.1    2282\n",
       "Android 5.1.1    1357\n",
       "Android 7.1.1    1031\n",
       "Windows 8.1       887\n",
       "Android 5.0.2     480\n",
       "iOS 11.3          466\n",
       "Name: operating_system_version, dtype: int64"
      ]
     },
     "execution_count": 451,
     "metadata": {},
     "output_type": "execute_result"
    }
   ],
   "source": [
    "#visitantes que entraron por 1ra vez con que sistema operativo\n",
    "nuevos['operating_system_version'].value_counts().head(10)"
   ]
  },
  {
   "cell_type": "code",
   "execution_count": 452,
   "metadata": {},
   "outputs": [
    {
     "data": {
      "text/plain": [
       "Windows 7        2640\n",
       "Windows 10       2147\n",
       "Android 7        1299\n",
       "Android 6.0.1    1014\n",
       "Android 6         667\n",
       "Android 5.1.1     525\n",
       "Android 7.1.1     452\n",
       "Windows 8.1       406\n",
       "Android 5.0.2     202\n",
       "iOS 11.3          190\n",
       "Name: operating_system_version, dtype: int64"
      ]
     },
     "execution_count": 452,
     "metadata": {},
     "output_type": "execute_result"
    }
   ],
   "source": [
    "#visitantes que entraron por 1ra y no volvieorn a hacerlo\n",
    "retornaron['operating_system_version'].value_counts().head(10)"
   ]
  },
  {
   "cell_type": "code",
   "execution_count": 453,
   "metadata": {},
   "outputs": [
    {
     "data": {
      "text/plain": [
       "Windows 7        3317\n",
       "Windows 10       2409\n",
       "Android 6        2283\n",
       "Android 7        1868\n",
       "Android 6.0.1    1239\n",
       "Android 5.1.1     834\n",
       "Android 7.1.1     577\n",
       "Windows 8.1       484\n",
       "iOS 11.3          297\n",
       "Android 5.0.2     276\n",
       "Name: operating_system_version, dtype: int64"
      ]
     },
     "execution_count": 453,
     "metadata": {},
     "output_type": "execute_result"
    }
   ],
   "source": [
    "#visitantes que entraron por 1ra y no volvieorn a hacerlo\n",
    "noRetornaron['operating_system_version'].value_counts().head(10)"
   ]
  },
  {
   "cell_type": "code",
   "execution_count": 454,
   "metadata": {},
   "outputs": [
    {
     "data": {
      "text/plain": [
       "Chrome 66.0           7292\n",
       "Chrome Mobile 66.0    5290\n",
       "Chrome Mobile 39      1617\n",
       "Chrome 67.0           1364\n",
       "Chrome Mobile 67.0    1173\n",
       "Chrome Mobile 65.0    1061\n",
       "Chrome 65.0            964\n",
       "Mobile Safari 11       726\n",
       "Chrome Mobile 64.0     585\n",
       "Chrome 64.0            427\n",
       "Name: browser_version, dtype: int64"
      ]
     },
     "execution_count": 454,
     "metadata": {},
     "output_type": "execute_result"
    }
   ],
   "source": [
    "#por que version de buscador entraron por primera vez los visitantes\n",
    "nuevos['browser_version'].value_counts().head(10)"
   ]
  },
  {
   "cell_type": "code",
   "execution_count": 455,
   "metadata": {},
   "outputs": [
    {
     "data": {
      "text/plain": [
       "Chrome 66.0           3138\n",
       "Chrome Mobile 66.0    2250\n",
       "Chrome 65.0            622\n",
       "Chrome Mobile 65.0     618\n",
       "Chrome 67.0            534\n",
       "Chrome Mobile 67.0     441\n",
       "Chrome Mobile 64.0     362\n",
       "Chrome 64.0            294\n",
       "Mobile Safari 11       283\n",
       "Chrome Mobile 63.0     183\n",
       "Name: browser_version, dtype: int64"
      ]
     },
     "execution_count": 455,
     "metadata": {},
     "output_type": "execute_result"
    }
   ],
   "source": [
    "retornaron['browser_version'].value_counts().head(10)"
   ]
  },
  {
   "cell_type": "code",
   "execution_count": 456,
   "metadata": {},
   "outputs": [
    {
     "data": {
      "text/plain": [
       "Chrome 66.0             4377\n",
       "Chrome Mobile 66.0      3243\n",
       "Chrome Mobile 39        1614\n",
       "Chrome 67.0             1023\n",
       "Chrome Mobile 67.0       889\n",
       "Mobile Safari 11         446\n",
       "Chrome Mobile 65.0       306\n",
       "Firefox 60               279\n",
       "Samsung Internet 6.4     223\n",
       "Chrome 65.0              175\n",
       "Name: browser_version, dtype: int64"
      ]
     },
     "execution_count": 456,
     "metadata": {},
     "output_type": "execute_result"
    }
   ],
   "source": [
    "#de los que no volvieron cuales son los buscadores que usaron\n",
    "noRetornaron['browser_version'].value_counts().head(10)"
   ]
  },
  {
   "cell_type": "markdown",
   "metadata": {},
   "source": [
    "### De las personas que entraron a la etapa de checkout cuantos se convirtieron en una conversion (person,sku)"
   ]
  },
  {
   "cell_type": "code",
   "execution_count": 527,
   "metadata": {},
   "outputs": [
    {
     "name": "stdout",
     "output_type": "stream",
     "text": [
      "(31286, 6)\n",
      "(904, 6)\n"
     ]
    }
   ],
   "source": [
    "print(check.shape)\n",
    "print(conver.shape)"
   ]
  },
  {
   "cell_type": "code",
   "execution_count": 528,
   "metadata": {},
   "outputs": [],
   "source": [
    "check = check[['timestamp','event','model','condition','storage','color']]\n",
    "conver = conver[['timestamp','event','model','condition','storage','color']]"
   ]
  },
  {
   "cell_type": "code",
   "execution_count": 542,
   "metadata": {},
   "outputs": [
    {
     "data": {
      "text/html": [
       "<div>\n",
       "<style scoped>\n",
       "    .dataframe tbody tr th:only-of-type {\n",
       "        vertical-align: middle;\n",
       "    }\n",
       "\n",
       "    .dataframe tbody tr th {\n",
       "        vertical-align: top;\n",
       "    }\n",
       "\n",
       "    .dataframe thead th {\n",
       "        text-align: right;\n",
       "    }\n",
       "</style>\n",
       "<table border=\"1\" class=\"dataframe\">\n",
       "  <thead>\n",
       "    <tr style=\"text-align: right;\">\n",
       "      <th></th>\n",
       "      <th></th>\n",
       "      <th>timestamp</th>\n",
       "      <th>timestampde conversion</th>\n",
       "      <th>model</th>\n",
       "      <th>condition</th>\n",
       "      <th>storage</th>\n",
       "      <th>color</th>\n",
       "    </tr>\n",
       "    <tr>\n",
       "      <th>person</th>\n",
       "      <th>sku</th>\n",
       "      <th></th>\n",
       "      <th></th>\n",
       "      <th></th>\n",
       "      <th></th>\n",
       "      <th></th>\n",
       "      <th></th>\n",
       "    </tr>\n",
       "  </thead>\n",
       "  <tbody>\n",
       "    <tr>\n",
       "      <th>00c13dee</th>\n",
       "      <th>6650.0</th>\n",
       "      <td>2018-04-26 22:15:27</td>\n",
       "      <td>2018-04-26 22:28:53</td>\n",
       "      <td>Samsung Galaxy Core Plus Duos TV</td>\n",
       "      <td>Muito Bom</td>\n",
       "      <td>4GB</td>\n",
       "      <td>Branco</td>\n",
       "    </tr>\n",
       "    <tr>\n",
       "      <th>00fdbb4b</th>\n",
       "      <th>3348.0</th>\n",
       "      <td>2018-06-11 01:47:34</td>\n",
       "      <td>2018-06-10 14:37:50</td>\n",
       "      <td>Samsung Galaxy S6 Flat</td>\n",
       "      <td>Muito Bom</td>\n",
       "      <td>32GB</td>\n",
       "      <td>Branco</td>\n",
       "    </tr>\n",
       "    <tr>\n",
       "      <th>0146a9df</th>\n",
       "      <th>2694.0</th>\n",
       "      <td>2018-03-16 13:41:36</td>\n",
       "      <td>2018-03-16 13:50:25</td>\n",
       "      <td>iPhone 5s</td>\n",
       "      <td>Bom</td>\n",
       "      <td>32GB</td>\n",
       "      <td>Cinza espacial</td>\n",
       "    </tr>\n",
       "    <tr>\n",
       "      <th>01db2fe6</th>\n",
       "      <th>6357.0</th>\n",
       "      <td>2018-02-09 21:54:43</td>\n",
       "      <td>2018-02-09 22:07:07</td>\n",
       "      <td>Samsung Galaxy J5</td>\n",
       "      <td>Bom</td>\n",
       "      <td>16GB</td>\n",
       "      <td>Preto</td>\n",
       "    </tr>\n",
       "    <tr>\n",
       "      <th>03bdcd81</th>\n",
       "      <th>3301.0</th>\n",
       "      <td>2018-01-09 16:44:17</td>\n",
       "      <td>2018-01-09 16:47:50</td>\n",
       "      <td>Samsung Galaxy S6 Edge</td>\n",
       "      <td>Excelente</td>\n",
       "      <td>32GB</td>\n",
       "      <td>Dourado</td>\n",
       "    </tr>\n",
       "  </tbody>\n",
       "</table>\n",
       "</div>"
      ],
      "text/plain": [
       "                           timestamp timestampde conversion  \\\n",
       "person   sku                                                  \n",
       "00c13dee 6650.0  2018-04-26 22:15:27    2018-04-26 22:28:53   \n",
       "00fdbb4b 3348.0  2018-06-11 01:47:34    2018-06-10 14:37:50   \n",
       "0146a9df 2694.0  2018-03-16 13:41:36    2018-03-16 13:50:25   \n",
       "01db2fe6 6357.0  2018-02-09 21:54:43    2018-02-09 22:07:07   \n",
       "03bdcd81 3301.0  2018-01-09 16:44:17    2018-01-09 16:47:50   \n",
       "\n",
       "                                            model  condition storage  \\\n",
       "person   sku                                                           \n",
       "00c13dee 6650.0  Samsung Galaxy Core Plus Duos TV  Muito Bom     4GB   \n",
       "00fdbb4b 3348.0            Samsung Galaxy S6 Flat  Muito Bom    32GB   \n",
       "0146a9df 2694.0                         iPhone 5s        Bom    32GB   \n",
       "01db2fe6 6357.0                 Samsung Galaxy J5        Bom    16GB   \n",
       "03bdcd81 3301.0            Samsung Galaxy S6 Edge  Excelente    32GB   \n",
       "\n",
       "                          color  \n",
       "person   sku                     \n",
       "00c13dee 6650.0          Branco  \n",
       "00fdbb4b 3348.0          Branco  \n",
       "0146a9df 2694.0  Cinza espacial  \n",
       "01db2fe6 6357.0           Preto  \n",
       "03bdcd81 3301.0         Dourado  "
      ]
     },
     "execution_count": 542,
     "metadata": {},
     "output_type": "execute_result"
    }
   ],
   "source": [
    "#personas que entraon al checkout y terminaron con una conversion par aun producto\n",
    "checkAndConver = check.join(conver,how = 'inner',rsuffix= 'de conversion')\n",
    "checkAndConver = checkAndConver[['timestamp','timestampde conversion','model','condition','storage','color']]\n",
    "checkAndConver.head()"
   ]
  },
  {
   "cell_type": "code",
   "execution_count": 543,
   "metadata": {},
   "outputs": [
    {
     "data": {
      "text/plain": [
       "(749, 6)"
      ]
     },
     "execution_count": 543,
     "metadata": {},
     "output_type": "execute_result"
    }
   ],
   "source": [
    "# Esto es raro por q hay pesonas que hicieron conversiones sin entrar primero por un checkout\n",
    "checkAndConver.shape"
   ]
  },
  {
   "cell_type": "code",
   "execution_count": 544,
   "metadata": {},
   "outputs": [
    {
     "data": {
      "text/plain": [
       "(26899, 6)"
      ]
     },
     "execution_count": 544,
     "metadata": {},
     "output_type": "execute_result"
    }
   ],
   "source": [
    "datos_persona.shape"
   ]
  },
  {
   "cell_type": "code",
   "execution_count": 545,
   "metadata": {},
   "outputs": [
    {
     "data": {
      "text/html": [
       "<div>\n",
       "<style scoped>\n",
       "    .dataframe tbody tr th:only-of-type {\n",
       "        vertical-align: middle;\n",
       "    }\n",
       "\n",
       "    .dataframe tbody tr th {\n",
       "        vertical-align: top;\n",
       "    }\n",
       "\n",
       "    .dataframe thead th {\n",
       "        text-align: right;\n",
       "    }\n",
       "</style>\n",
       "<table border=\"1\" class=\"dataframe\">\n",
       "  <thead>\n",
       "    <tr style=\"text-align: right;\">\n",
       "      <th></th>\n",
       "      <th>sku</th>\n",
       "      <th>timestamp</th>\n",
       "      <th>timestampde conversion</th>\n",
       "      <th>model</th>\n",
       "      <th>condition</th>\n",
       "      <th>storage</th>\n",
       "      <th>color</th>\n",
       "      <th>city</th>\n",
       "      <th>region</th>\n",
       "      <th>country</th>\n",
       "      <th>device_type</th>\n",
       "      <th>browser_version</th>\n",
       "      <th>channel</th>\n",
       "    </tr>\n",
       "    <tr>\n",
       "      <th>person</th>\n",
       "      <th></th>\n",
       "      <th></th>\n",
       "      <th></th>\n",
       "      <th></th>\n",
       "      <th></th>\n",
       "      <th></th>\n",
       "      <th></th>\n",
       "      <th></th>\n",
       "      <th></th>\n",
       "      <th></th>\n",
       "      <th></th>\n",
       "      <th></th>\n",
       "      <th></th>\n",
       "    </tr>\n",
       "  </thead>\n",
       "  <tbody>\n",
       "    <tr>\n",
       "      <th>00c13dee</th>\n",
       "      <td>6650</td>\n",
       "      <td>2018-04-26 22:15:27</td>\n",
       "      <td>2018-04-26 22:28:53</td>\n",
       "      <td>Samsung Galaxy Core Plus Duos TV</td>\n",
       "      <td>Muito Bom</td>\n",
       "      <td>4GB</td>\n",
       "      <td>Branco</td>\n",
       "      <td>Belém</td>\n",
       "      <td>Para</td>\n",
       "      <td>Brazil</td>\n",
       "      <td>Smartphone</td>\n",
       "      <td>Chrome Mobile 65.0</td>\n",
       "      <td>Paid</td>\n",
       "    </tr>\n",
       "    <tr>\n",
       "      <th>00fdbb4b</th>\n",
       "      <td>3348</td>\n",
       "      <td>2018-06-11 01:47:34</td>\n",
       "      <td>2018-06-10 14:37:50</td>\n",
       "      <td>Samsung Galaxy S6 Flat</td>\n",
       "      <td>Muito Bom</td>\n",
       "      <td>32GB</td>\n",
       "      <td>Branco</td>\n",
       "      <td>São Bernardo do Campo</td>\n",
       "      <td>Sao Paulo</td>\n",
       "      <td>Brazil</td>\n",
       "      <td>Computer</td>\n",
       "      <td>Chrome 66.0</td>\n",
       "      <td>Organic</td>\n",
       "    </tr>\n",
       "    <tr>\n",
       "      <th>0146a9df</th>\n",
       "      <td>2694</td>\n",
       "      <td>2018-03-16 13:41:36</td>\n",
       "      <td>2018-03-16 13:50:25</td>\n",
       "      <td>iPhone 5s</td>\n",
       "      <td>Bom</td>\n",
       "      <td>32GB</td>\n",
       "      <td>Cinza espacial</td>\n",
       "      <td>Fortaleza</td>\n",
       "      <td>Ceara</td>\n",
       "      <td>Brazil</td>\n",
       "      <td>Computer</td>\n",
       "      <td>Chrome 64.0</td>\n",
       "      <td>Paid</td>\n",
       "    </tr>\n",
       "    <tr>\n",
       "      <th>01db2fe6</th>\n",
       "      <td>6357</td>\n",
       "      <td>2018-02-09 21:54:43</td>\n",
       "      <td>2018-02-09 22:07:07</td>\n",
       "      <td>Samsung Galaxy J5</td>\n",
       "      <td>Bom</td>\n",
       "      <td>16GB</td>\n",
       "      <td>Preto</td>\n",
       "      <td>Jundiaí</td>\n",
       "      <td>Sao Paulo</td>\n",
       "      <td>Brazil</td>\n",
       "      <td>Smartphone</td>\n",
       "      <td>Chrome Mobile 64.0</td>\n",
       "      <td>Paid</td>\n",
       "    </tr>\n",
       "    <tr>\n",
       "      <th>03bdcd81</th>\n",
       "      <td>3301</td>\n",
       "      <td>2018-01-09 16:44:17</td>\n",
       "      <td>2018-01-09 16:47:50</td>\n",
       "      <td>Samsung Galaxy S6 Edge</td>\n",
       "      <td>Excelente</td>\n",
       "      <td>32GB</td>\n",
       "      <td>Dourado</td>\n",
       "      <td>São Paulo</td>\n",
       "      <td>Sao Paulo</td>\n",
       "      <td>Brazil</td>\n",
       "      <td>Computer</td>\n",
       "      <td>Edge 15.15063</td>\n",
       "      <td>Direct</td>\n",
       "    </tr>\n",
       "  </tbody>\n",
       "</table>\n",
       "</div>"
      ],
      "text/plain": [
       "           sku            timestamp timestampde conversion  \\\n",
       "person                                                       \n",
       "00c13dee  6650  2018-04-26 22:15:27    2018-04-26 22:28:53   \n",
       "00fdbb4b  3348  2018-06-11 01:47:34    2018-06-10 14:37:50   \n",
       "0146a9df  2694  2018-03-16 13:41:36    2018-03-16 13:50:25   \n",
       "01db2fe6  6357  2018-02-09 21:54:43    2018-02-09 22:07:07   \n",
       "03bdcd81  3301  2018-01-09 16:44:17    2018-01-09 16:47:50   \n",
       "\n",
       "                                     model  condition storage           color  \\\n",
       "person                                                                          \n",
       "00c13dee  Samsung Galaxy Core Plus Duos TV  Muito Bom     4GB          Branco   \n",
       "00fdbb4b            Samsung Galaxy S6 Flat  Muito Bom    32GB          Branco   \n",
       "0146a9df                         iPhone 5s        Bom    32GB  Cinza espacial   \n",
       "01db2fe6                 Samsung Galaxy J5        Bom    16GB           Preto   \n",
       "03bdcd81            Samsung Galaxy S6 Edge  Excelente    32GB         Dourado   \n",
       "\n",
       "                           city     region country device_type  \\\n",
       "person                                                           \n",
       "00c13dee                  Belém       Para  Brazil  Smartphone   \n",
       "00fdbb4b  São Bernardo do Campo  Sao Paulo  Brazil    Computer   \n",
       "0146a9df              Fortaleza      Ceara  Brazil    Computer   \n",
       "01db2fe6                Jundiaí  Sao Paulo  Brazil  Smartphone   \n",
       "03bdcd81              São Paulo  Sao Paulo  Brazil    Computer   \n",
       "\n",
       "             browser_version  channel  \n",
       "person                                 \n",
       "00c13dee  Chrome Mobile 65.0     Paid  \n",
       "00fdbb4b         Chrome 66.0  Organic  \n",
       "0146a9df         Chrome 64.0     Paid  \n",
       "01db2fe6  Chrome Mobile 64.0     Paid  \n",
       "03bdcd81       Edge 15.15063   Direct  "
      ]
     },
     "execution_count": 545,
     "metadata": {},
     "output_type": "execute_result"
    }
   ],
   "source": [
    "# Para poder tener mas datos sobre esas personas la jineamos con mi tabla personas\n",
    "checkAndConverConDatos = checkAndConver \n",
    "checkAndConverConDatos = checkAndConverConDatos.reset_index().set_index('person') \n",
    "checkAndConverConDatos = checkAndConverConDatos.join(datos_persona,how = 'inner')\n",
    "checkAndConverConDatos.head()"
   ]
  },
  {
   "cell_type": "code",
   "execution_count": 546,
   "metadata": {},
   "outputs": [
    {
     "data": {
      "text/plain": [
       "(684, 13)"
      ]
     },
     "execution_count": 546,
     "metadata": {},
     "output_type": "execute_result"
    }
   ],
   "source": [
    "# Disminuyo la cnatidad por que oobviamente mi tabla de datos personales esta armada desde la tabla visitas\n",
    "checkAndConverConDatos.shape"
   ]
  },
  {
   "cell_type": "code",
   "execution_count": 547,
   "metadata": {},
   "outputs": [
    {
     "data": {
      "text/html": [
       "<div>\n",
       "<style scoped>\n",
       "    .dataframe tbody tr th:only-of-type {\n",
       "        vertical-align: middle;\n",
       "    }\n",
       "\n",
       "    .dataframe tbody tr th {\n",
       "        vertical-align: top;\n",
       "    }\n",
       "\n",
       "    .dataframe thead th {\n",
       "        text-align: right;\n",
       "    }\n",
       "</style>\n",
       "<table border=\"1\" class=\"dataframe\">\n",
       "  <thead>\n",
       "    <tr style=\"text-align: right;\">\n",
       "      <th></th>\n",
       "      <th></th>\n",
       "      <th>timestamp</th>\n",
       "      <th>model</th>\n",
       "      <th>condition</th>\n",
       "      <th>storage</th>\n",
       "      <th>color</th>\n",
       "    </tr>\n",
       "    <tr>\n",
       "      <th>person</th>\n",
       "      <th>sku</th>\n",
       "      <th></th>\n",
       "      <th></th>\n",
       "      <th></th>\n",
       "      <th></th>\n",
       "      <th></th>\n",
       "    </tr>\n",
       "  </thead>\n",
       "  <tbody>\n",
       "    <tr>\n",
       "      <th>0004b0a2</th>\n",
       "      <th>2694.0</th>\n",
       "      <td>2018-05-31 23:38:40</td>\n",
       "      <td>iPhone 5s</td>\n",
       "      <td>Bom</td>\n",
       "      <td>32GB</td>\n",
       "      <td>Cinza espacial</td>\n",
       "    </tr>\n",
       "    <tr>\n",
       "      <th>0006a21a</th>\n",
       "      <th>15338.0</th>\n",
       "      <td>2018-05-29 13:29:35</td>\n",
       "      <td>Samsung Galaxy S8</td>\n",
       "      <td>Bom</td>\n",
       "      <td>64GB</td>\n",
       "      <td>Dourado</td>\n",
       "    </tr>\n",
       "    <tr>\n",
       "      <th>000a54b2</th>\n",
       "      <th>12660.0</th>\n",
       "      <td>2018-05-24 11:34:32</td>\n",
       "      <td>Motorola Moto Z Play</td>\n",
       "      <td>Bom</td>\n",
       "      <td>32GB</td>\n",
       "      <td>Preto</td>\n",
       "    </tr>\n",
       "    <tr>\n",
       "      <th rowspan=\"2\" valign=\"top\">00184bf9</th>\n",
       "      <th>6355.0</th>\n",
       "      <td>2018-04-06 05:14:58</td>\n",
       "      <td>Samsung Galaxy J5</td>\n",
       "      <td>Excelente</td>\n",
       "      <td>16GB</td>\n",
       "      <td>Preto</td>\n",
       "    </tr>\n",
       "    <tr>\n",
       "      <th>213.0</th>\n",
       "      <td>2018-05-04 18:50:21</td>\n",
       "      <td>iPhone 5c</td>\n",
       "      <td>Muito Bom</td>\n",
       "      <td>16GB</td>\n",
       "      <td>Branco</td>\n",
       "    </tr>\n",
       "  </tbody>\n",
       "</table>\n",
       "</div>"
      ],
      "text/plain": [
       "                            timestamp                 model  condition  \\\n",
       "person   sku                                                             \n",
       "0004b0a2 2694.0   2018-05-31 23:38:40             iPhone 5s        Bom   \n",
       "0006a21a 15338.0  2018-05-29 13:29:35     Samsung Galaxy S8        Bom   \n",
       "000a54b2 12660.0  2018-05-24 11:34:32  Motorola Moto Z Play        Bom   \n",
       "00184bf9 6355.0   2018-04-06 05:14:58     Samsung Galaxy J5  Excelente   \n",
       "         213.0    2018-05-04 18:50:21             iPhone 5c  Muito Bom   \n",
       "\n",
       "                 storage           color  \n",
       "person   sku                              \n",
       "0004b0a2 2694.0     32GB  Cinza espacial  \n",
       "0006a21a 15338.0    64GB         Dourado  \n",
       "000a54b2 12660.0    32GB           Preto  \n",
       "00184bf9 6355.0     16GB           Preto  \n",
       "         213.0      16GB          Branco  "
      ]
     },
     "execution_count": 547,
     "metadata": {},
     "output_type": "execute_result"
    }
   ],
   "source": [
    "#personas q entraron al checkout pero no terminaron con una conversion sin daots\n",
    "checkAndNoConver = check.join(conver,how = 'left',rsuffix= 'de conversion')\n",
    "checkAndNoConver = checkAndNoConver[['timestamp','model','condition','storage','color']]\n",
    "\n",
    "checkAndNoConver.head()"
   ]
  },
  {
   "cell_type": "code",
   "execution_count": 548,
   "metadata": {},
   "outputs": [
    {
     "data": {
      "text/plain": [
       "(31286, 5)"
      ]
     },
     "execution_count": 548,
     "metadata": {},
     "output_type": "execute_result"
    }
   ],
   "source": [
    "checkAndNoConver.shape"
   ]
  },
  {
   "cell_type": "code",
   "execution_count": 549,
   "metadata": {},
   "outputs": [
    {
     "data": {
      "text/html": [
       "<div>\n",
       "<style scoped>\n",
       "    .dataframe tbody tr th:only-of-type {\n",
       "        vertical-align: middle;\n",
       "    }\n",
       "\n",
       "    .dataframe tbody tr th {\n",
       "        vertical-align: top;\n",
       "    }\n",
       "\n",
       "    .dataframe thead th {\n",
       "        text-align: right;\n",
       "    }\n",
       "</style>\n",
       "<table border=\"1\" class=\"dataframe\">\n",
       "  <thead>\n",
       "    <tr style=\"text-align: right;\">\n",
       "      <th></th>\n",
       "      <th></th>\n",
       "      <th>timestamp</th>\n",
       "      <th>model</th>\n",
       "      <th>condition</th>\n",
       "      <th>storage</th>\n",
       "      <th>color</th>\n",
       "      <th>city</th>\n",
       "      <th>region</th>\n",
       "      <th>country</th>\n",
       "      <th>device_type</th>\n",
       "      <th>browser_version</th>\n",
       "      <th>channel</th>\n",
       "    </tr>\n",
       "    <tr>\n",
       "      <th></th>\n",
       "      <th>sku</th>\n",
       "      <th></th>\n",
       "      <th></th>\n",
       "      <th></th>\n",
       "      <th></th>\n",
       "      <th></th>\n",
       "      <th></th>\n",
       "      <th></th>\n",
       "      <th></th>\n",
       "      <th></th>\n",
       "      <th></th>\n",
       "      <th></th>\n",
       "    </tr>\n",
       "  </thead>\n",
       "  <tbody>\n",
       "    <tr>\n",
       "      <th>0004b0a2</th>\n",
       "      <th>2694.0</th>\n",
       "      <td>2018-05-31 23:38:40</td>\n",
       "      <td>iPhone 5s</td>\n",
       "      <td>Bom</td>\n",
       "      <td>32GB</td>\n",
       "      <td>Cinza espacial</td>\n",
       "      <td>Camaragibe</td>\n",
       "      <td>Pernambuco</td>\n",
       "      <td>Brazil</td>\n",
       "      <td>Smartphone</td>\n",
       "      <td>Chrome Mobile 39</td>\n",
       "      <td>Paid</td>\n",
       "    </tr>\n",
       "    <tr>\n",
       "      <th>0006a21a</th>\n",
       "      <th>15338.0</th>\n",
       "      <td>2018-05-29 13:29:35</td>\n",
       "      <td>Samsung Galaxy S8</td>\n",
       "      <td>Bom</td>\n",
       "      <td>64GB</td>\n",
       "      <td>Dourado</td>\n",
       "      <td>Rio de Janeiro</td>\n",
       "      <td>Rio de Janeiro</td>\n",
       "      <td>Brazil</td>\n",
       "      <td>Smartphone</td>\n",
       "      <td>Android 5.1</td>\n",
       "      <td>Paid</td>\n",
       "    </tr>\n",
       "    <tr>\n",
       "      <th>000a54b2</th>\n",
       "      <th>12660.0</th>\n",
       "      <td>2018-05-24 11:34:32</td>\n",
       "      <td>Motorola Moto Z Play</td>\n",
       "      <td>Bom</td>\n",
       "      <td>32GB</td>\n",
       "      <td>Preto</td>\n",
       "      <td>Rio de Janeiro</td>\n",
       "      <td>Rio de Janeiro</td>\n",
       "      <td>Brazil</td>\n",
       "      <td>Computer</td>\n",
       "      <td>Chrome 65.0</td>\n",
       "      <td>Paid</td>\n",
       "    </tr>\n",
       "    <tr>\n",
       "      <th rowspan=\"2\" valign=\"top\">00184bf9</th>\n",
       "      <th>6355.0</th>\n",
       "      <td>2018-04-06 05:14:58</td>\n",
       "      <td>Samsung Galaxy J5</td>\n",
       "      <td>Excelente</td>\n",
       "      <td>16GB</td>\n",
       "      <td>Preto</td>\n",
       "      <td>Ribeirão Preto</td>\n",
       "      <td>Sao Paulo</td>\n",
       "      <td>Brazil</td>\n",
       "      <td>Computer</td>\n",
       "      <td>Chrome 65.0</td>\n",
       "      <td>Organic</td>\n",
       "    </tr>\n",
       "    <tr>\n",
       "      <th>213.0</th>\n",
       "      <td>2018-05-04 18:50:21</td>\n",
       "      <td>iPhone 5c</td>\n",
       "      <td>Muito Bom</td>\n",
       "      <td>16GB</td>\n",
       "      <td>Branco</td>\n",
       "      <td>Ribeirão Preto</td>\n",
       "      <td>Sao Paulo</td>\n",
       "      <td>Brazil</td>\n",
       "      <td>Computer</td>\n",
       "      <td>Chrome 65.0</td>\n",
       "      <td>Organic</td>\n",
       "    </tr>\n",
       "  </tbody>\n",
       "</table>\n",
       "</div>"
      ],
      "text/plain": [
       "                            timestamp                 model  condition  \\\n",
       "         sku                                                             \n",
       "0004b0a2 2694.0   2018-05-31 23:38:40             iPhone 5s        Bom   \n",
       "0006a21a 15338.0  2018-05-29 13:29:35     Samsung Galaxy S8        Bom   \n",
       "000a54b2 12660.0  2018-05-24 11:34:32  Motorola Moto Z Play        Bom   \n",
       "00184bf9 6355.0   2018-04-06 05:14:58     Samsung Galaxy J5  Excelente   \n",
       "         213.0    2018-05-04 18:50:21             iPhone 5c  Muito Bom   \n",
       "\n",
       "                 storage           color            city          region  \\\n",
       "         sku                                                               \n",
       "0004b0a2 2694.0     32GB  Cinza espacial      Camaragibe      Pernambuco   \n",
       "0006a21a 15338.0    64GB         Dourado  Rio de Janeiro  Rio de Janeiro   \n",
       "000a54b2 12660.0    32GB           Preto  Rio de Janeiro  Rio de Janeiro   \n",
       "00184bf9 6355.0     16GB           Preto  Ribeirão Preto       Sao Paulo   \n",
       "         213.0      16GB          Branco  Ribeirão Preto       Sao Paulo   \n",
       "\n",
       "                 country device_type   browser_version  channel  \n",
       "         sku                                                     \n",
       "0004b0a2 2694.0   Brazil  Smartphone  Chrome Mobile 39     Paid  \n",
       "0006a21a 15338.0  Brazil  Smartphone       Android 5.1     Paid  \n",
       "000a54b2 12660.0  Brazil    Computer       Chrome 65.0     Paid  \n",
       "00184bf9 6355.0   Brazil    Computer       Chrome 65.0  Organic  \n",
       "         213.0    Brazil    Computer       Chrome 65.0  Organic  "
      ]
     },
     "execution_count": 549,
     "metadata": {},
     "output_type": "execute_result"
    }
   ],
   "source": [
    "checkAndNoConverConDatos = checkAndNoConver \n",
    "checkAndNoConverConDatos = checkAndNoConverConDatos.join(datos_persona,on = 'person',how = 'inner')\n",
    "checkAndNoConverConDatos.head()"
   ]
  },
  {
   "cell_type": "code",
   "execution_count": 550,
   "metadata": {},
   "outputs": [
    {
     "data": {
      "text/plain": [
       "(30555, 11)"
      ]
     },
     "execution_count": 550,
     "metadata": {},
     "output_type": "execute_result"
    }
   ],
   "source": [
    "checkAndNoConverConDatos.shape"
   ]
  },
  {
   "cell_type": "code",
   "execution_count": null,
   "metadata": {},
   "outputs": [],
   "source": []
  },
  {
   "cell_type": "code",
   "execution_count": null,
   "metadata": {},
   "outputs": [],
   "source": []
  }
 ],
 "metadata": {
  "kernelspec": {
   "display_name": "Python 2",
   "language": "python",
   "name": "python2"
  },
  "language_info": {
   "codemirror_mode": {
    "name": "ipython",
    "version": 2
   },
   "file_extension": ".py",
   "mimetype": "text/x-python",
   "name": "python",
   "nbconvert_exporter": "python",
   "pygments_lexer": "ipython2",
   "version": "2.7.15rc1"
  }
 },
 "nbformat": 4,
 "nbformat_minor": 2
}
