{
 "cells": [
  {
   "cell_type": "code",
   "execution_count": 2,
   "metadata": {},
   "outputs": [],
   "source": [
    "import pandas as pd\n",
    "import numpy as np\n",
    "import datetime as dt\n",
    "\n",
    "from sklearn.preprocessing import LabelEncoder "
   ]
  },
  {
   "cell_type": "code",
   "execution_count": 3,
   "metadata": {},
   "outputs": [],
   "source": [
    "#Importamos los set de datos.\n",
    "eventos = pd.read_csv(\"../events_up_to_01062018.csv\", low_memory=False)\n",
    "train = pd.read_csv(\"../trocafone_kaggle_test.csv\")"
   ]
  },
  {
   "cell_type": "code",
   "execution_count": 4,
   "metadata": {},
   "outputs": [
    {
     "data": {
      "text/plain": [
       "['timestamp',\n",
       " 'event',\n",
       " 'person',\n",
       " 'url',\n",
       " 'sku',\n",
       " 'model',\n",
       " 'condition',\n",
       " 'storage',\n",
       " 'color',\n",
       " 'skus',\n",
       " 'search_term',\n",
       " 'staticpage',\n",
       " 'campaign_source',\n",
       " 'search_engine',\n",
       " 'channel',\n",
       " 'new_vs_returning',\n",
       " 'city',\n",
       " 'region',\n",
       " 'country',\n",
       " 'device_type',\n",
       " 'screen_resolution',\n",
       " 'operating_system_version',\n",
       " 'browser_version']"
      ]
     },
     "execution_count": 4,
     "metadata": {},
     "output_type": "execute_result"
    }
   ],
   "source": [
    "list(eventos)"
   ]
  },
  {
   "cell_type": "code",
   "execution_count": 5,
   "metadata": {},
   "outputs": [],
   "source": [
    "#Creamos un dataframe de features\n",
    "features = train"
   ]
  },
  {
   "cell_type": "code",
   "execution_count": 6,
   "metadata": {},
   "outputs": [
    {
     "data": {
      "text/plain": [
       "(19415, 1)"
      ]
     },
     "execution_count": 6,
     "metadata": {},
     "output_type": "execute_result"
    }
   ],
   "source": [
    "features.shape"
   ]
  },
  {
   "cell_type": "code",
   "execution_count": 7,
   "metadata": {},
   "outputs": [],
   "source": [
    "#Feature: Es un usuario que retorno alguna vez?\n",
    "\n",
    "df = eventos.groupby(['person'])['new_vs_returning'].agg('count').reset_index()\n",
    "df['retornoAlSitio'] = df[\"new_vs_returning\"].apply(lambda x: True if x>0 else False)\n",
    "del df['new_vs_returning']\n",
    "features = pd.merge(features, df, on='person', how= 'left')\n"
   ]
  },
  {
   "cell_type": "code",
   "execution_count": 8,
   "metadata": {},
   "outputs": [],
   "source": [
    "#Feature: Cantidad de tipo de estado de dispositivo que busco.\n",
    "\n",
    "df = eventos.groupby('person')['condition'].value_counts().unstack()\n",
    "df = df.rename(columns={'Bom': 'cantidad_visualizaciones_buen_estado', \n",
    "                 'Bom - Sem Touch ID': 'cantidad_visualizaciones_buen_estado_sin_touch', \n",
    "                 'Novo': 'cantidad_visualizaciones_nuevo',\n",
    "                 'Muito Bom': 'cantidad_visualizaciones_muy_buen_estado',\n",
    "                 'Excelente': 'cantidad_visualizaciones_excelente'})\n",
    "\n",
    "df = df.fillna(0)\n",
    "features = pd.merge(features, df, on='person', how= 'left')"
   ]
  },
  {
   "cell_type": "code",
   "execution_count": 9,
   "metadata": {},
   "outputs": [],
   "source": [
    "#Feature: Cantidad de eventos generados totales\n",
    "\n",
    "df = eventos.groupby(['person'])['event'].agg('count').to_frame('cantidad_eventos_generados').reset_index()\n",
    "features = pd.merge(features, df, on='person', how= 'left')\n"
   ]
  },
  {
   "cell_type": "code",
   "execution_count": 10,
   "metadata": {},
   "outputs": [],
   "source": [
    "#Features: Cantidad por tipo de evento generado\n",
    "df = eventos.groupby('person')['event'].value_counts().unstack()\n",
    "df = df.fillna(0)\n",
    "df = df.rename(columns={'ad campaign hit': 'cantidadIngresosPorCampania', \n",
    "                 'brand listing': 'cantidadDeVisualizacionesPorMarca', \n",
    "                 'checkout': 'cantidadDeCheckouts',\n",
    "                 'conversion': 'cantidadConversiones',\n",
    "                 'generic listing': 'cantidadDeVisualizacionesDeLaHome',\n",
    "                 'lead': 'cantidadDeGeneracionDeNotificaciones',\n",
    "                 'search engine hit': 'cantidadDeIngresosPorBuscador',\n",
    "                 'searched products': 'cantidadDeProductosBuscados',\n",
    "                 'staticpage': 'cantidadDeVisitas',\n",
    "                 'viewed product': 'cantidadDeVisualizacionesDeProducto',\n",
    "                 'visited site': 'cantidadDeIngresosPorUrl',\n",
    "                })\n",
    "features = pd.merge(features, df, on='person', how= 'left')"
   ]
  },
  {
   "cell_type": "code",
   "execution_count": 11,
   "metadata": {},
   "outputs": [],
   "source": [
    "#Features: Cantidad de visualizaciones por marca\n",
    "eventos_con_marca = eventos\n",
    "eventos_con_marca['marca'] = eventos_con_marca['model'].str.split(' ').str[0]\n",
    "df = eventos_con_marca.groupby('person')['marca'].value_counts().unstack()\n",
    "df = df.fillna(0)\n",
    "df = df.rename(columns={'Asus': 'cantidadDeVisualizacionesAsus', \n",
    "                 'LG': 'cantidadVisualizacionesLG', \n",
    "                 'Lenovo': 'cantidadVisualizacionesLenovo',\n",
    "                 'Outros': 'cantidadVisualizacionesOtros',\n",
    "                 'Quantum': 'cantidadVisualizacionesQuantum',\n",
    "                 'Samsung': 'cantidadVisualizacionesSamsung',\n",
    "                 'Sony': 'cantidadVisualizacionesSony',\n",
    "                 'Xiaomi': 'cantidadVisualizacionesXiaomi',\n",
    "                 'iPad': 'cantidadVisualizacionesiPad',\n",
    "                 'iPhone': 'cantidadDeVisualizacionesiPhone'\n",
    "                })\n",
    "features = pd.merge(features, df, on='person', how= 'left')"
   ]
  },
  {
   "cell_type": "code",
   "execution_count": 12,
   "metadata": {},
   "outputs": [],
   "source": [
    "#Features: Region del usuario\n",
    "df = eventos.loc[eventos.event.str.contains('visited site'),]\n",
    "df = df.groupby(['person']).agg({'region': 'first'})\n",
    "df = df.fillna('NA')\n",
    "features = pd.merge(features, df, on='person', how= 'left')"
   ]
  },
  {
   "cell_type": "code",
   "execution_count": 13,
   "metadata": {},
   "outputs": [],
   "source": [
    "#Features: Ciudad del usuario\n",
    "df = eventos.loc[eventos.event.str.contains('visited site'),]\n",
    "df = df.groupby(['person']).agg({'city': 'first'})\n",
    "df = df.fillna('NA')\n",
    "features = pd.merge(features, df, on='person', how= 'left')"
   ]
  },
  {
   "cell_type": "code",
   "execution_count": 14,
   "metadata": {},
   "outputs": [],
   "source": [
    "#Features: Pais del usuario\n",
    "df = eventos.loc[eventos.event.str.contains('visited site'),]\n",
    "df = df.groupby(['person']).agg({'country': 'first'})\n",
    "df = df.fillna('NA')\n",
    "features = pd.merge(features, df, on='person', how= 'left')"
   ]
  },
  {
   "cell_type": "code",
   "execution_count": 15,
   "metadata": {},
   "outputs": [],
   "source": [
    "#Features: Region del usuario\n",
    "df = eventos.loc[eventos.event.str.contains('visited site'),]\n",
    "df = df.groupby(['person']).agg({'device_type': 'first'})\n",
    "df = df.fillna('NA')\n",
    "features = pd.merge(features, df, on='person', how= 'left')"
   ]
  },
  {
   "cell_type": "code",
   "execution_count": 16,
   "metadata": {},
   "outputs": [],
   "source": [
    "#Features: Cantidad por tipo de canal proveniente  generado\n",
    "df = eventos.groupby('person')['channel'].value_counts().unstack()\n",
    "df = df.fillna(0)\n",
    "df = df.rename(columns={'Direct': 'cantidadDeIngresosPorCanalDirecto', \n",
    "                 'Email': 'cantidadDeIngresosPorCanalEmail', \n",
    "                 'Organic': 'cantidadDeIngresosPorCanalOrganico',\n",
    "                 'Paid': 'cantidadDeIngresosPorCanalOrganicoPago',\n",
    "                 'Referral': 'cantidadDeIngresosPorCanalReferido',\n",
    "                 'Social': 'cantidadDeIngresosPorCanalRedSocial',\n",
    "                 'Unknown': 'cantidadDeIngresosPorCanalDesconocido'\n",
    "                })\n",
    "features = pd.merge(features, df, on='person', how= 'left')"
   ]
  },
  {
   "cell_type": "code",
   "execution_count": 17,
   "metadata": {},
   "outputs": [],
   "source": [
    "#Features: Cantidad por tipo de campania proveniente  generado\n",
    "df = eventos.groupby('person')['campaign_source'].value_counts().unstack()\n",
    "df = df.fillna(0)\n",
    "features = pd.merge(features, df, on='person', how= 'left')\n"
   ]
  },
  {
   "cell_type": "code",
   "execution_count": 18,
   "metadata": {},
   "outputs": [],
   "source": [
    "#Encodeamos las features que nos numeros\n",
    "lb_make = LabelEncoder()\n",
    "\n",
    "features['device_type'] = lb_make.fit_transform(features['device_type'].astype(str))\n",
    "features['city'] = lb_make.fit_transform(features['city'].astype(str))\n",
    "features['region'] = lb_make.fit_transform(features['region'].astype(str))\n",
    "features['country'] = lb_make.fit_transform(features['country'].astype(str))"
   ]
  },
  {
   "cell_type": "code",
   "execution_count": 19,
   "metadata": {},
   "outputs": [],
   "source": [
    "features = features.fillna(0)"
   ]
  },
  {
   "cell_type": "code",
   "execution_count": 20,
   "metadata": {},
   "outputs": [],
   "source": [
    "features.to_csv(\"../set_a_predecir.csv\")"
   ]
  }
 ],
 "metadata": {
  "kernelspec": {
   "display_name": "Python 3",
   "language": "python",
   "name": "python3"
  },
  "language_info": {
   "codemirror_mode": {
    "name": "ipython",
    "version": 3
   },
   "file_extension": ".py",
   "mimetype": "text/x-python",
   "name": "python",
   "nbconvert_exporter": "python",
   "pygments_lexer": "ipython3",
   "version": "3.7.0"
  }
 },
 "nbformat": 4,
 "nbformat_minor": 2
}
